{
  "nbformat": 4,
  "nbformat_minor": 0,
  "metadata": {
    "colab": {
      "name": "swhela2_dzagar_Assignment2.ipynb",
      "version": "0.3.2",
      "provenance": [],
      "collapsed_sections": [],
      "toc_visible": true,
      "include_colab_link": true
    },
    "kernelspec": {
      "name": "python3",
      "display_name": "Python 3"
    }
  },
  "cells": [
    {
      "cell_type": "markdown",
      "metadata": {
        "id": "view-in-github",
        "colab_type": "text"
      },
      "source": [
        "<a href=\"https://colab.research.google.com/github/dzagar/titanic-disaster-ml/blob/master/swhela2_dzagar_Assignment2.ipynb\" target=\"_parent\"><img src=\"https://colab.research.google.com/assets/colab-badge.svg\" alt=\"Open In Colab\"/></a>"
      ]
    },
    {
      "metadata": {
        "id": "9a1DZ7GbR-Ui",
        "colab_type": "text"
      },
      "cell_type": "markdown",
      "source": [
        "# Assignment 2: Titanic Disaster\n",
        "Sarah Whelan, Dana Zagar"
      ]
    },
    {
      "metadata": {
        "id": "5J4YzEP5RiRP",
        "colab_type": "text"
      },
      "cell_type": "markdown",
      "source": [
        "***The problem we are modelling is the Titanic disaster, and the likelihood of survival depending on various features described in passenger data. We will be using the Naive Bayes classifier and the Multi-Layer Perceptron classifier as well as classic data cleaning techniques to achieve an acceptance rate of approximately 79% on the Kaggle test set.***"
      ]
    },
    {
      "metadata": {
        "id": "nce4WIYF8jBM",
        "colab_type": "text"
      },
      "cell_type": "markdown",
      "source": [
        "Setting up the environment with required imports."
      ]
    },
    {
      "metadata": {
        "id": "1cZ_ihd98jJr",
        "colab_type": "code",
        "colab": {}
      },
      "cell_type": "code",
      "source": [
        "# Common imports\n",
        "import pandas as pd\n",
        "import numpy as np\n",
        "import matplotlib.pyplot as plt\n",
        "import seaborn as sb\n",
        "import re\n",
        "from sklearn.preprocessing import StandardScaler\n",
        "from sklearn.model_selection import train_test_split\n",
        "from sklearn.naive_bayes import GaussianNB\n",
        "from sklearn.neural_network import MLPClassifier\n",
        "from sklearn import metrics\n",
        "from IPython.display import display\n",
        "\n",
        "#ignore warnings\n",
        "import warnings\n",
        "warnings.filterwarnings('ignore')\n",
        "\n"
      ],
      "execution_count": 0,
      "outputs": []
    },
    {
      "metadata": {
        "id": "uE1zymRnPVRI",
        "colab_type": "text"
      },
      "cell_type": "markdown",
      "source": [
        "Adding confusion matrix display awesomeness, for looking at our model predictiveness scores later."
      ]
    },
    {
      "metadata": {
        "id": "Q3o6CvxOPUxC",
        "colab_type": "code",
        "colab": {}
      },
      "cell_type": "code",
      "source": [
        "def display_confusion_matrix(desired, predicted, score=None):\n",
        "  conMat = metrics.confusion_matrix(desired, predicted)\n",
        "  plt.figure(figsize=(6,6))\n",
        "  sb.heatmap(conMat, annot=True, fmt=\".3f\", linewidths=.5, square=True, cmap='Blues_r')\n",
        "  plt.ylabel('Actual label')\n",
        "  plt.xlabel('Predicted label')\n",
        "  if score:\n",
        "    score_title = 'Accuracy: {0}'.format(round(score, 5))\n",
        "    plt.title(score_title, size=13)\n",
        "  class_report = pd.DataFrame.from_dict(metrics.classification_report(desired, predicted, output_dict=True), orient='index')\n",
        "  display(class_report.round(2))"
      ],
      "execution_count": 0,
      "outputs": []
    },
    {
      "metadata": {
        "id": "Y03DUzBuCrUi",
        "colab_type": "text"
      },
      "cell_type": "markdown",
      "source": [
        "Retrieving and loading the data (just copied data to local runtime)."
      ]
    },
    {
      "metadata": {
        "id": "S4lrRxBBCt5r",
        "colab_type": "code",
        "colab": {}
      },
      "cell_type": "code",
      "source": [
        "# Get data files\n",
        "training_set = \"/content/train.csv\"\n",
        "testing_set = \"/content/test.csv\""
      ],
      "execution_count": 0,
      "outputs": []
    },
    {
      "metadata": {
        "id": "pyudvLB5fF5s",
        "colab_type": "code",
        "outputId": "8cf70687-e020-4bb9-dedf-e2d038d6d547",
        "colab": {
          "base_uri": "https://localhost:8080/",
          "height": 496
        }
      },
      "cell_type": "code",
      "source": [
        "# Use Pandas to create a data frame\n",
        "training_df = pd.read_csv(training_set)\n",
        "testing_df = pd.read_csv(testing_set)\n",
        "training_df.head()"
      ],
      "execution_count": 0,
      "outputs": [
        {
          "output_type": "execute_result",
          "data": {
            "text/html": [
              "<div>\n",
              "<style scoped>\n",
              "    .dataframe tbody tr th:only-of-type {\n",
              "        vertical-align: middle;\n",
              "    }\n",
              "\n",
              "    .dataframe tbody tr th {\n",
              "        vertical-align: top;\n",
              "    }\n",
              "\n",
              "    .dataframe thead th {\n",
              "        text-align: right;\n",
              "    }\n",
              "</style>\n",
              "<table border=\"1\" class=\"dataframe\">\n",
              "  <thead>\n",
              "    <tr style=\"text-align: right;\">\n",
              "      <th></th>\n",
              "      <th>PassengerId</th>\n",
              "      <th>Survived</th>\n",
              "      <th>Pclass</th>\n",
              "      <th>Name</th>\n",
              "      <th>Sex</th>\n",
              "      <th>Age</th>\n",
              "      <th>SibSp</th>\n",
              "      <th>Parch</th>\n",
              "      <th>Ticket</th>\n",
              "      <th>Fare</th>\n",
              "      <th>Cabin</th>\n",
              "      <th>Embarked</th>\n",
              "    </tr>\n",
              "  </thead>\n",
              "  <tbody>\n",
              "    <tr>\n",
              "      <th>0</th>\n",
              "      <td>1</td>\n",
              "      <td>0</td>\n",
              "      <td>3</td>\n",
              "      <td>Braund, Mr. Owen Harris</td>\n",
              "      <td>male</td>\n",
              "      <td>22.0</td>\n",
              "      <td>1</td>\n",
              "      <td>0</td>\n",
              "      <td>A/5 21171</td>\n",
              "      <td>7.2500</td>\n",
              "      <td>NaN</td>\n",
              "      <td>S</td>\n",
              "    </tr>\n",
              "    <tr>\n",
              "      <th>1</th>\n",
              "      <td>2</td>\n",
              "      <td>1</td>\n",
              "      <td>1</td>\n",
              "      <td>Cumings, Mrs. John Bradley (Florence Briggs Th...</td>\n",
              "      <td>female</td>\n",
              "      <td>38.0</td>\n",
              "      <td>1</td>\n",
              "      <td>0</td>\n",
              "      <td>PC 17599</td>\n",
              "      <td>71.2833</td>\n",
              "      <td>C85</td>\n",
              "      <td>C</td>\n",
              "    </tr>\n",
              "    <tr>\n",
              "      <th>2</th>\n",
              "      <td>3</td>\n",
              "      <td>1</td>\n",
              "      <td>3</td>\n",
              "      <td>Heikkinen, Miss. Laina</td>\n",
              "      <td>female</td>\n",
              "      <td>26.0</td>\n",
              "      <td>0</td>\n",
              "      <td>0</td>\n",
              "      <td>STON/O2. 3101282</td>\n",
              "      <td>7.9250</td>\n",
              "      <td>NaN</td>\n",
              "      <td>S</td>\n",
              "    </tr>\n",
              "    <tr>\n",
              "      <th>3</th>\n",
              "      <td>4</td>\n",
              "      <td>1</td>\n",
              "      <td>1</td>\n",
              "      <td>Futrelle, Mrs. Jacques Heath (Lily May Peel)</td>\n",
              "      <td>female</td>\n",
              "      <td>35.0</td>\n",
              "      <td>1</td>\n",
              "      <td>0</td>\n",
              "      <td>113803</td>\n",
              "      <td>53.1000</td>\n",
              "      <td>C123</td>\n",
              "      <td>S</td>\n",
              "    </tr>\n",
              "    <tr>\n",
              "      <th>4</th>\n",
              "      <td>5</td>\n",
              "      <td>0</td>\n",
              "      <td>3</td>\n",
              "      <td>Allen, Mr. William Henry</td>\n",
              "      <td>male</td>\n",
              "      <td>35.0</td>\n",
              "      <td>0</td>\n",
              "      <td>0</td>\n",
              "      <td>373450</td>\n",
              "      <td>8.0500</td>\n",
              "      <td>NaN</td>\n",
              "      <td>S</td>\n",
              "    </tr>\n",
              "  </tbody>\n",
              "</table>\n",
              "</div>"
            ],
            "text/plain": [
              "   PassengerId  Survived  Pclass  \\\n",
              "0            1         0       3   \n",
              "1            2         1       1   \n",
              "2            3         1       3   \n",
              "3            4         1       1   \n",
              "4            5         0       3   \n",
              "\n",
              "                                                Name     Sex   Age  SibSp  \\\n",
              "0                            Braund, Mr. Owen Harris    male  22.0      1   \n",
              "1  Cumings, Mrs. John Bradley (Florence Briggs Th...  female  38.0      1   \n",
              "2                             Heikkinen, Miss. Laina  female  26.0      0   \n",
              "3       Futrelle, Mrs. Jacques Heath (Lily May Peel)  female  35.0      1   \n",
              "4                           Allen, Mr. William Henry    male  35.0      0   \n",
              "\n",
              "   Parch            Ticket     Fare Cabin Embarked  \n",
              "0      0         A/5 21171   7.2500   NaN        S  \n",
              "1      0          PC 17599  71.2833   C85        C  \n",
              "2      0  STON/O2. 3101282   7.9250   NaN        S  \n",
              "3      0            113803  53.1000  C123        S  \n",
              "4      0            373450   8.0500   NaN        S  "
            ]
          },
          "metadata": {
            "tags": []
          },
          "execution_count": 5
        }
      ]
    },
    {
      "metadata": {
        "id": "UINhedHxfnfN",
        "colab_type": "code",
        "outputId": "d958a5fb-e5ce-484e-a5b6-10fdc77b1621",
        "colab": {
          "base_uri": "https://localhost:8080/",
          "height": 297
        }
      },
      "cell_type": "code",
      "source": [
        "# Show stats on each attribute in the data set\n",
        "training_df.describe()"
      ],
      "execution_count": 0,
      "outputs": [
        {
          "output_type": "execute_result",
          "data": {
            "text/html": [
              "<div>\n",
              "<style scoped>\n",
              "    .dataframe tbody tr th:only-of-type {\n",
              "        vertical-align: middle;\n",
              "    }\n",
              "\n",
              "    .dataframe tbody tr th {\n",
              "        vertical-align: top;\n",
              "    }\n",
              "\n",
              "    .dataframe thead th {\n",
              "        text-align: right;\n",
              "    }\n",
              "</style>\n",
              "<table border=\"1\" class=\"dataframe\">\n",
              "  <thead>\n",
              "    <tr style=\"text-align: right;\">\n",
              "      <th></th>\n",
              "      <th>PassengerId</th>\n",
              "      <th>Survived</th>\n",
              "      <th>Pclass</th>\n",
              "      <th>Age</th>\n",
              "      <th>SibSp</th>\n",
              "      <th>Parch</th>\n",
              "      <th>Fare</th>\n",
              "    </tr>\n",
              "  </thead>\n",
              "  <tbody>\n",
              "    <tr>\n",
              "      <th>count</th>\n",
              "      <td>891.000000</td>\n",
              "      <td>891.000000</td>\n",
              "      <td>891.000000</td>\n",
              "      <td>714.000000</td>\n",
              "      <td>891.000000</td>\n",
              "      <td>891.000000</td>\n",
              "      <td>891.000000</td>\n",
              "    </tr>\n",
              "    <tr>\n",
              "      <th>mean</th>\n",
              "      <td>446.000000</td>\n",
              "      <td>0.383838</td>\n",
              "      <td>2.308642</td>\n",
              "      <td>29.699118</td>\n",
              "      <td>0.523008</td>\n",
              "      <td>0.381594</td>\n",
              "      <td>32.204208</td>\n",
              "    </tr>\n",
              "    <tr>\n",
              "      <th>std</th>\n",
              "      <td>257.353842</td>\n",
              "      <td>0.486592</td>\n",
              "      <td>0.836071</td>\n",
              "      <td>14.526497</td>\n",
              "      <td>1.102743</td>\n",
              "      <td>0.806057</td>\n",
              "      <td>49.693429</td>\n",
              "    </tr>\n",
              "    <tr>\n",
              "      <th>min</th>\n",
              "      <td>1.000000</td>\n",
              "      <td>0.000000</td>\n",
              "      <td>1.000000</td>\n",
              "      <td>0.420000</td>\n",
              "      <td>0.000000</td>\n",
              "      <td>0.000000</td>\n",
              "      <td>0.000000</td>\n",
              "    </tr>\n",
              "    <tr>\n",
              "      <th>25%</th>\n",
              "      <td>223.500000</td>\n",
              "      <td>0.000000</td>\n",
              "      <td>2.000000</td>\n",
              "      <td>20.125000</td>\n",
              "      <td>0.000000</td>\n",
              "      <td>0.000000</td>\n",
              "      <td>7.910400</td>\n",
              "    </tr>\n",
              "    <tr>\n",
              "      <th>50%</th>\n",
              "      <td>446.000000</td>\n",
              "      <td>0.000000</td>\n",
              "      <td>3.000000</td>\n",
              "      <td>28.000000</td>\n",
              "      <td>0.000000</td>\n",
              "      <td>0.000000</td>\n",
              "      <td>14.454200</td>\n",
              "    </tr>\n",
              "    <tr>\n",
              "      <th>75%</th>\n",
              "      <td>668.500000</td>\n",
              "      <td>1.000000</td>\n",
              "      <td>3.000000</td>\n",
              "      <td>38.000000</td>\n",
              "      <td>1.000000</td>\n",
              "      <td>0.000000</td>\n",
              "      <td>31.000000</td>\n",
              "    </tr>\n",
              "    <tr>\n",
              "      <th>max</th>\n",
              "      <td>891.000000</td>\n",
              "      <td>1.000000</td>\n",
              "      <td>3.000000</td>\n",
              "      <td>80.000000</td>\n",
              "      <td>8.000000</td>\n",
              "      <td>6.000000</td>\n",
              "      <td>512.329200</td>\n",
              "    </tr>\n",
              "  </tbody>\n",
              "</table>\n",
              "</div>"
            ],
            "text/plain": [
              "       PassengerId    Survived      Pclass         Age       SibSp  \\\n",
              "count   891.000000  891.000000  891.000000  714.000000  891.000000   \n",
              "mean    446.000000    0.383838    2.308642   29.699118    0.523008   \n",
              "std     257.353842    0.486592    0.836071   14.526497    1.102743   \n",
              "min       1.000000    0.000000    1.000000    0.420000    0.000000   \n",
              "25%     223.500000    0.000000    2.000000   20.125000    0.000000   \n",
              "50%     446.000000    0.000000    3.000000   28.000000    0.000000   \n",
              "75%     668.500000    1.000000    3.000000   38.000000    1.000000   \n",
              "max     891.000000    1.000000    3.000000   80.000000    8.000000   \n",
              "\n",
              "            Parch        Fare  \n",
              "count  891.000000  891.000000  \n",
              "mean     0.381594   32.204208  \n",
              "std      0.806057   49.693429  \n",
              "min      0.000000    0.000000  \n",
              "25%      0.000000    7.910400  \n",
              "50%      0.000000   14.454200  \n",
              "75%      0.000000   31.000000  \n",
              "max      6.000000  512.329200  "
            ]
          },
          "metadata": {
            "tags": []
          },
          "execution_count": 268
        }
      ]
    },
    {
      "metadata": {
        "id": "KMFq1AT_hNWA",
        "colab_type": "text"
      },
      "cell_type": "markdown",
      "source": [
        "Let's get numerical recurrences of attributes in the data frame so we can see if we are missing any data points at a quick glance."
      ]
    },
    {
      "metadata": {
        "id": "5VdarS-Af2tN",
        "colab_type": "code",
        "outputId": "17f04587-e8b1-47df-a10b-cdb4b359dae1",
        "colab": {
          "base_uri": "https://localhost:8080/",
          "height": 323
        }
      },
      "cell_type": "code",
      "source": [
        "training_df.info()"
      ],
      "execution_count": 0,
      "outputs": [
        {
          "output_type": "stream",
          "text": [
            "<class 'pandas.core.frame.DataFrame'>\n",
            "RangeIndex: 891 entries, 0 to 890\n",
            "Data columns (total 12 columns):\n",
            "PassengerId    891 non-null int64\n",
            "Survived       891 non-null int64\n",
            "Pclass         891 non-null int64\n",
            "Name           891 non-null object\n",
            "Sex            891 non-null object\n",
            "Age            714 non-null float64\n",
            "SibSp          891 non-null int64\n",
            "Parch          891 non-null int64\n",
            "Ticket         891 non-null object\n",
            "Fare           891 non-null float64\n",
            "Cabin          204 non-null object\n",
            "Embarked       889 non-null object\n",
            "dtypes: float64(2), int64(5), object(5)\n",
            "memory usage: 83.6+ KB\n"
          ],
          "name": "stdout"
        }
      ]
    },
    {
      "metadata": {
        "id": "iDh61_jEhX0N",
        "colab_type": "text"
      },
      "cell_type": "markdown",
      "source": [
        "What data is consistent? Which attributes provide smaller data sets?"
      ]
    },
    {
      "metadata": {
        "id": "ZaXmENref-R_",
        "colab_type": "code",
        "outputId": "d0fc2c1a-e8fe-4eec-ee95-c399bac00ea8",
        "colab": {
          "base_uri": "https://localhost:8080/",
          "height": 415
        }
      },
      "cell_type": "code",
      "source": [
        "sb.heatmap(training_df.isnull(), cbar=False)"
      ],
      "execution_count": 0,
      "outputs": [
        {
          "output_type": "execute_result",
          "data": {
            "text/plain": [
              "<matplotlib.axes._subplots.AxesSubplot at 0x7fbfb419a6a0>"
            ]
          },
          "metadata": {
            "tags": []
          },
          "execution_count": 8
        },
        {
          "output_type": "display_data",
          "data": {
            "image/png": "[encoded data removed]",
            "text/plain": [
              "<Figure size 576x396 with 1 Axes>"
            ]
          },
          "metadata": {
            "tags": []
          }
        }
      ]
    },
    {
      "metadata": {
        "id": "RCFpUBAJhkgA",
        "colab_type": "text"
      },
      "cell_type": "markdown",
      "source": [
        "From the output we can see, it looks like the Cabin attribute defines a much smaller data set. Age is also sparse. We won't use Cabin at face value, but we can massage the data later in feature engineering. For age, we could group the data by other features and find the average for its corresponding category. Embarked is also missing two values."
      ]
    },
    {
      "metadata": {
        "id": "4qg11fXKjfiX",
        "colab_type": "text"
      },
      "cell_type": "markdown",
      "source": [
        "First, let's try to find the most likely Embarked values for these data points given the fare value and the sex:"
      ]
    },
    {
      "metadata": {
        "id": "1HCltptQi-7J",
        "colab_type": "code",
        "outputId": "fd27fd0e-4fee-4d38-faca-b9a090753f96",
        "colab": {
          "base_uri": "https://localhost:8080/",
          "height": 361
        }
      },
      "cell_type": "code",
      "source": [
        "pl = sb.barplot(x=\"Embarked\", y=\"Fare\", hue=\"Sex\", data=training_df)"
      ],
      "execution_count": 0,
      "outputs": [
        {
          "output_type": "display_data",
          "data": {
            "image/png": "[encoded data removed]",
            "text/plain": [
              "<Figure size 576x396 with 1 Axes>"
            ]
          },
          "metadata": {
            "tags": []
          }
        }
      ]
    },
    {
      "metadata": {
        "id": "qDdVEsTskuQk",
        "colab_type": "text"
      },
      "cell_type": "markdown",
      "source": [
        "Let's look at the two data points missing their Embarked value, and see if we can match them up to our findings in the graph."
      ]
    },
    {
      "metadata": {
        "id": "_GK7itLYk6wO",
        "colab_type": "code",
        "outputId": "b8b12d91-359a-4d73-8290-978640c01625",
        "colab": {
          "base_uri": "https://localhost:8080/",
          "height": 250
        }
      },
      "cell_type": "code",
      "source": [
        "training_df[training_df['Embarked'].isnull()]"
      ],
      "execution_count": 0,
      "outputs": [
        {
          "output_type": "execute_result",
          "data": {
            "text/html": [
              "<div>\n",
              "<style scoped>\n",
              "    .dataframe tbody tr th:only-of-type {\n",
              "        vertical-align: middle;\n",
              "    }\n",
              "\n",
              "    .dataframe tbody tr th {\n",
              "        vertical-align: top;\n",
              "    }\n",
              "\n",
              "    .dataframe thead th {\n",
              "        text-align: right;\n",
              "    }\n",
              "</style>\n",
              "<table border=\"1\" class=\"dataframe\">\n",
              "  <thead>\n",
              "    <tr style=\"text-align: right;\">\n",
              "      <th></th>\n",
              "      <th>PassengerId</th>\n",
              "      <th>Survived</th>\n",
              "      <th>Pclass</th>\n",
              "      <th>Name</th>\n",
              "      <th>Sex</th>\n",
              "      <th>Age</th>\n",
              "      <th>SibSp</th>\n",
              "      <th>Parch</th>\n",
              "      <th>Ticket</th>\n",
              "      <th>Fare</th>\n",
              "      <th>Cabin</th>\n",
              "      <th>Embarked</th>\n",
              "    </tr>\n",
              "  </thead>\n",
              "  <tbody>\n",
              "    <tr>\n",
              "      <th>61</th>\n",
              "      <td>62</td>\n",
              "      <td>1</td>\n",
              "      <td>1</td>\n",
              "      <td>Icard, Miss. Amelie</td>\n",
              "      <td>female</td>\n",
              "      <td>38.0</td>\n",
              "      <td>0</td>\n",
              "      <td>0</td>\n",
              "      <td>113572</td>\n",
              "      <td>80.0</td>\n",
              "      <td>B28</td>\n",
              "      <td>NaN</td>\n",
              "    </tr>\n",
              "    <tr>\n",
              "      <th>829</th>\n",
              "      <td>830</td>\n",
              "      <td>1</td>\n",
              "      <td>1</td>\n",
              "      <td>Stone, Mrs. George Nelson (Martha Evelyn)</td>\n",
              "      <td>female</td>\n",
              "      <td>62.0</td>\n",
              "      <td>0</td>\n",
              "      <td>0</td>\n",
              "      <td>113572</td>\n",
              "      <td>80.0</td>\n",
              "      <td>B28</td>\n",
              "      <td>NaN</td>\n",
              "    </tr>\n",
              "  </tbody>\n",
              "</table>\n",
              "</div>"
            ],
            "text/plain": [
              "     PassengerId  Survived  Pclass                                       Name  \\\n",
              "61            62         1       1                        Icard, Miss. Amelie   \n",
              "829          830         1       1  Stone, Mrs. George Nelson (Martha Evelyn)   \n",
              "\n",
              "        Sex   Age  SibSp  Parch  Ticket  Fare Cabin Embarked  \n",
              "61   female  38.0      0      0  113572  80.0   B28      NaN  \n",
              "829  female  62.0      0      0  113572  80.0   B28      NaN  "
            ]
          },
          "metadata": {
            "tags": []
          },
          "execution_count": 271
        }
      ]
    },
    {
      "metadata": {
        "id": "7BMyMNenlBfo",
        "colab_type": "text"
      },
      "cell_type": "markdown",
      "source": [
        "Both passengers are female and both paid 80 dollars for their fare. A solid best guess would be that they embarked from C since the average fare for females embarking from C was closest to 80 dollars."
      ]
    },
    {
      "metadata": {
        "id": "goE0Byj1lvoB",
        "colab_type": "text"
      },
      "cell_type": "markdown",
      "source": [
        "Visualizing each attribute in the training data to make some initial observations:"
      ]
    },
    {
      "metadata": {
        "id": "9A5BoROTqV7D",
        "colab_type": "code",
        "outputId": "1bb85a11-df16-4b84-bd64-f83844d3677f",
        "colab": {
          "base_uri": "https://localhost:8080/",
          "height": 898
        }
      },
      "cell_type": "code",
      "source": [
        "training_df.drop(['PassengerId'], 1).hist(bins=50, figsize=(20,15))\n",
        "plt.show()"
      ],
      "execution_count": 0,
      "outputs": [
        {
          "output_type": "display_data",
          "data": {
            "image/png": "[encoded data removed]",
            "text/plain": [
              "<Figure size 1440x1080 with 6 Axes>"
            ]
          },
          "metadata": {
            "tags": []
          }
        }
      ]
    },
    {
      "metadata": {
        "id": "qO53N_ojq6Hx",
        "colab_type": "text"
      },
      "cell_type": "markdown",
      "source": [
        "Observations:\n",
        "- Most passengers were between the ages of 20-40. (Ages)\n",
        "- An overwhelming amount of passengers paid the lowest fare range (between 0 and 10 dollars) and the majority paid under 50 dollars. (Fare)\n",
        "- Only around 38% of passengers actually survived. (Survived)\n",
        "- Over 50% of passengers were the lowest social class. (Pclass)\n",
        "- Many passengers were travelling alone. (SibSp, Parch)"
      ]
    },
    {
      "metadata": {
        "id": "PsSKvIFZ99vI",
        "colab_type": "text"
      },
      "cell_type": "markdown",
      "source": [
        "Noticing that Sex has not been plotted, let's plot them against the survival rate to see if we can see a trend."
      ]
    },
    {
      "metadata": {
        "id": "p9W6kKII-I4W",
        "colab_type": "code",
        "outputId": "3a8054e3-c4a4-4da9-96a6-c5c00cf8ac79",
        "colab": {
          "base_uri": "https://localhost:8080/",
          "height": 397
        }
      },
      "cell_type": "code",
      "source": [
        "# Bar plot of Survival by Sex\n",
        "sb.barplot(x=\"Sex\", y=\"Survived\", data=training_df)\n",
        "\n",
        "# Print percentages of females vs. males that survived.\n",
        "print(\"Percentage of females who survived:\", training_df[\"Survived\"][training_df[\"Sex\"] == 'female'].value_counts(normalize = True)[1]*100)\n",
        "print(\"Percentage of males who survived:\", training_df[\"Survived\"][training_df[\"Sex\"] == 'male'].value_counts(normalize = True)[1]*100)"
      ],
      "execution_count": 0,
      "outputs": [
        {
          "output_type": "stream",
          "text": [
            "Percentage of females who survived: 74.20382165605095\n",
            "Percentage of males who survived: 18.890814558058924\n"
          ],
          "name": "stdout"
        },
        {
          "output_type": "display_data",
          "data": {
            "image/png": "[encoded data removed]",
            "text/plain": [
              "<Figure size 576x396 with 1 Axes>"
            ]
          },
          "metadata": {
            "tags": []
          }
        }
      ]
    },
    {
      "metadata": {
        "id": "a1HHstFL-b_6",
        "colab_type": "text"
      },
      "cell_type": "markdown",
      "source": [
        "This displays a huge trend - females were much more likely to survive. Therefore, keeping Sex in our model is critical."
      ]
    },
    {
      "metadata": {
        "id": "91oldWcn-j35",
        "colab_type": "text"
      },
      "cell_type": "markdown",
      "source": [
        "Now, the next feature that was interesting is Class, since the majority of the people on the ship were in the third and lowest class. Let's plot this against survival."
      ]
    },
    {
      "metadata": {
        "id": "KM7Nfp0S-vzM",
        "colab_type": "code",
        "outputId": "bb053e31-4265-449b-d6ff-9cb794c2de00",
        "colab": {
          "base_uri": "https://localhost:8080/",
          "height": 415
        }
      },
      "cell_type": "code",
      "source": [
        "# Bar plot of Survival by Pclass\n",
        "sb.barplot(x=\"Pclass\", y=\"Survived\", data=training_df)\n",
        "\n",
        "# Print percentage of people by Pclass that survived.\n",
        "print(\"Percentage of Pclass = 1 who survived:\", training_df[\"Survived\"][training_df[\"Pclass\"] == 1].value_counts(normalize = True)[1]*100)\n",
        "print(\"Percentage of Pclass = 2 who survived:\", training_df[\"Survived\"][training_df[\"Pclass\"] == 2].value_counts(normalize = True)[1]*100)\n",
        "print(\"Percentage of Pclass = 3 who survived:\", training_df[\"Survived\"][training_df[\"Pclass\"] == 3].value_counts(normalize = True)[1]*100)"
      ],
      "execution_count": 0,
      "outputs": [
        {
          "output_type": "stream",
          "text": [
            "Percentage of Pclass = 1 who survived: 62.96296296296296\n",
            "Percentage of Pclass = 2 who survived: 47.28260869565217\n",
            "Percentage of Pclass = 3 who survived: 24.236252545824847\n"
          ],
          "name": "stdout"
        },
        {
          "output_type": "display_data",
          "data": {
            "image/png": "[encoded data removed]",
            "text/plain": [
              "<Figure size 576x396 with 1 Axes>"
            ]
          },
          "metadata": {
            "tags": []
          }
        }
      ]
    },
    {
      "metadata": {
        "id": "aBx10htA-26C",
        "colab_type": "text"
      },
      "cell_type": "markdown",
      "source": [
        "From the graph, we can see that the higher your socioeconomic status, the more likely you were to survive, as less than 25% of people in the third class survived. As such, we will definitely use Pclass in our model."
      ]
    },
    {
      "metadata": {
        "id": "bnPNBeld_KpX",
        "colab_type": "text"
      },
      "cell_type": "markdown",
      "source": [
        "The next feature we wanted to investigate was Age. Since many Age values are missing from the dataset, we'll just quickly fill in the gaps with Unknown and then plot Age against Survival to see if we can find a trend."
      ]
    },
    {
      "metadata": {
        "id": "Z7Pijkoa_Y_s",
        "colab_type": "code",
        "outputId": "a10cb092-29ed-44eb-ac8f-7047cc4b32ac",
        "colab": {
          "base_uri": "https://localhost:8080/",
          "height": 361
        }
      },
      "cell_type": "code",
      "source": [
        "def sort_age_group(df_raw):  \n",
        "  df = df_raw.copy()\n",
        "  # Sort the ages into logical categories\n",
        "  df[\"Age\"] = df[\"Age\"].fillna(-0.5)\n",
        "  bins = [-1, 0, 5, 12, 18, 24, 35, 60, np.inf]\n",
        "  labels = ['Unknown', 'Infant', 'Child', 'Teenager', 'Student', 'Young Adult', 'Adult', 'Senior']\n",
        "  df['AgeGroup'] = pd.cut(df[\"Age\"], bins, labels = labels)\n",
        "  return df\n",
        "\n",
        "# Bar plot of Age vs. Survival\n",
        "sb.barplot(x=\"AgeGroup\", y=\"Survived\", data=sort_age_group(training_df))\n",
        "plt.show()"
      ],
      "execution_count": 0,
      "outputs": [
        {
          "output_type": "display_data",
          "data": {
            "image/png": "[encoded data removed]",
            "text/plain": [
              "<Figure size 576x396 with 1 Axes>"
            ]
          },
          "metadata": {
            "tags": []
          }
        }
      ]
    },
    {
      "metadata": {
        "id": "1UOLpBtx_1rs",
        "colab_type": "text"
      },
      "cell_type": "markdown",
      "source": [
        "It is very clear from the graph that you were much more likely to survive if you were an Infant. Age will be extremely important in our prediction model, so we will need to fill in the gaps in this data as well as we can."
      ]
    },
    {
      "metadata": {
        "id": "PltZHzHrARjv",
        "colab_type": "text"
      },
      "cell_type": "markdown",
      "source": [
        "One feature that was not plotted initially was Cabin. Because of the inconsistency in the recorded cabin numbers for passengers who did have them, we wanted to investigate and see if there were any correlations between just having a cabin vs not and survival."
      ]
    },
    {
      "metadata": {
        "id": "b4c5w8nbAgyP",
        "colab_type": "code",
        "outputId": "88935a10-9096-4142-9a57-0e61c35cf1d4",
        "colab": {
          "base_uri": "https://localhost:8080/",
          "height": 397
        }
      },
      "cell_type": "code",
      "source": [
        "def extract_has_cabin(df_raw):\n",
        "  df = df_raw.copy()\n",
        "  df[\"HasCabin\"] = (df[\"Cabin\"].notnull().astype('int'))\n",
        "  return df\n",
        "\n",
        "# Calculate percentages of HasCabin vs Survived\n",
        "print(\"Percentage of HasCabin = 1 who survived:\", training_df[\"Survived\"][extract_has_cabin(training_df)[\"HasCabin\"] == 1].value_counts(normalize = True)[1]*100)\n",
        "print(\"Percentage of HasCabin = 0 who survived:\", training_df[\"Survived\"][extract_has_cabin(training_df)[\"HasCabin\"] == 0].value_counts(normalize = True)[1]*100)\n",
        "\n",
        "# Bar plot of HasCabin vs Survival\n",
        "sb.barplot(x=\"HasCabin\", y=\"Survived\", data=extract_has_cabin(training_df))\n",
        "plt.show()"
      ],
      "execution_count": 0,
      "outputs": [
        {
          "output_type": "stream",
          "text": [
            "Percentage of HasCabin = 1 who survived: 66.66666666666666\n",
            "Percentage of HasCabin = 0 who survived: 29.985443959243085\n"
          ],
          "name": "stdout"
        },
        {
          "output_type": "display_data",
          "data": {
            "image/png": "[encoded data removed]",
            "text/plain": [
              "<Figure size 576x396 with 1 Axes>"
            ]
          },
          "metadata": {
            "tags": []
          }
        }
      ]
    },
    {
      "metadata": {
        "id": "_wruzONLA1N5",
        "colab_type": "text"
      },
      "cell_type": "markdown",
      "source": [
        "We can infer from the graph that if a passenger did have a cabin, their survival was much more likely. Digging deeper, let's strip out the level of the cabin (first character) and see if that gives us any clues."
      ]
    },
    {
      "metadata": {
        "id": "sHGWhpXXXd2X",
        "colab_type": "code",
        "outputId": "96853b01-1d18-40f7-bbbf-27d6ade24618",
        "colab": {
          "base_uri": "https://localhost:8080/",
          "height": 361
        }
      },
      "cell_type": "code",
      "source": [
        "def strip_cabin_level(df_raw):\n",
        "  df = df_raw.copy()\n",
        "  df['Cabin'].fillna('X', inplace=True)\n",
        "  df['Cabin'][df['Cabin'] == 'T'] = 'X' # get rid of T class\n",
        "  # Strip Cabin level\n",
        "  df['Cabin'] = df['Cabin'].str[:1]\n",
        "  df['Cabin'] = df['Cabin'].map({cabin: p for p, cabin in enumerate(set(cab for cab in df['Cabin']))})\n",
        "  return df\n",
        "# Bar plot Cabin vs Survival\n",
        "#stripCabinLevel(training_df).head(25)\n",
        "sb.barplot(x=\"Cabin\", y=\"Survived\", data=strip_cabin_level(training_df))\n",
        "plt.show()"
      ],
      "execution_count": 0,
      "outputs": [
        {
          "output_type": "display_data",
          "data": {
            "image/png": "[encoded data removed]",
            "text/plain": [
              "<Figure size 576x396 with 1 Axes>"
            ]
          },
          "metadata": {
            "tags": []
          }
        }
      ]
    },
    {
      "metadata": {
        "id": "sSss6ZTUYMhS",
        "colab_type": "text"
      },
      "cell_type": "markdown",
      "source": [
        "As we can see, people with rooms on the second, fourth and fifth levels were more likely to survive. \n",
        "* Note that this is assigning arbitrary enum values to each class, so the graph will change on reload. However, it can be deduced by looking at the dataframe that not having a cabin is the lowest survival rate, and the second, fourth and fifth levels are the highest."
      ]
    },
    {
      "metadata": {
        "id": "9mGqPOGgBpv8",
        "colab_type": "text"
      },
      "cell_type": "markdown",
      "source": [
        "Now, let's fill in the Embarked values with our best guess from earlier."
      ]
    },
    {
      "metadata": {
        "id": "53FERYfbBt78",
        "colab_type": "code",
        "colab": {}
      },
      "cell_type": "code",
      "source": [
        "def fill_in_missing_embarked(df_raw):\n",
        "  df = df_raw.copy()\n",
        "  # Fill in two values for Embarked\n",
        "  # Determined before to use 'C'\n",
        "  df['Embarked'].fillna('C', inplace=True)\n",
        "  return df"
      ],
      "execution_count": 0,
      "outputs": []
    },
    {
      "metadata": {
        "id": "OaC8H9D9B9hh",
        "colab_type": "text"
      },
      "cell_type": "markdown",
      "source": [
        "Next item is to predict the Age values that are missing, which is critical in the accuracy of our model. To do so, we will extract a new feature \"Title\" which will help us to determine which age the passengers are. This feature will likely help us to further fine tune the likelihood of passenger survival as well, adding further granularity to Sex and Pclass."
      ]
    },
    {
      "metadata": {
        "id": "veI4sq8qCxLQ",
        "colab_type": "code",
        "outputId": "09f1e826-7990-4d99-b7a1-cf76a5200441",
        "colab": {
          "base_uri": "https://localhost:8080/",
          "height": 361
        }
      },
      "cell_type": "code",
      "source": [
        "def extract_title(df_raw):\n",
        "  df = df_raw.copy()\n",
        "  # Create honoristics column (Title), using the Name column.\n",
        "  df['Title'] = pd.Series((name.split('.')[0].split(',')[1].strip() for name in df['Name']), index=df.index)\n",
        "  df['Title'] = df['Title'].replace(['Mlle', 'Ms'], 'Miss')\n",
        "  df['Title'] = df['Title'].replace('Mme', 'Mrs')\n",
        "  df['Title'] = df['Title'].replace(['Rev', 'Jonkheer', 'Dr', 'Capt', 'Col', 'Don', 'Dona', 'Major'], 'Unique')\n",
        "  df['Title'] = df['Title'].replace(['the Countess','Sir', 'Countess', 'Lady'], 'Royal')\n",
        "  df['Title'] = df['Title'].map({\n",
        "      \"Mr\": 1,\n",
        "      \"Mrs\": 2,\n",
        "      \"Miss\": 3,\n",
        "      \"Master\": 4,\n",
        "      \"Unique\": 5,\n",
        "      \"Royal\" : 6,\n",
        "  })\n",
        "  return df\n",
        "\n",
        "# Bar plot of Title vs Survival\n",
        "sb.barplot(x=\"Title\", y=\"Survived\", data=extract_title(training_df))\n",
        "plt.show()"
      ],
      "execution_count": 0,
      "outputs": [
        {
          "output_type": "display_data",
          "data": {
            "image/png": "[encoded data removed]",
            "text/plain": [
              "<Figure size 576x396 with 1 Axes>"
            ]
          },
          "metadata": {
            "tags": []
          }
        }
      ]
    },
    {
      "metadata": {
        "id": "QZbWQeXzEz37",
        "colab_type": "text"
      },
      "cell_type": "markdown",
      "source": [
        "From the graph we can see that people with the Mr. title were unlikely to survive, and that people with Royal titles are <b>nearly guaranteed</b> to survive with a 100% survival rate. This is extremely important for our model."
      ]
    },
    {
      "metadata": {
        "id": "br6j0kyxFWFh",
        "colab_type": "text"
      },
      "cell_type": "markdown",
      "source": [
        "Now, let's predict Age Group using the mode value of the corresponding Title."
      ]
    },
    {
      "metadata": {
        "id": "Or5QK9bpFsV2",
        "colab_type": "code",
        "colab": {}
      },
      "cell_type": "code",
      "source": [
        "# [pre] Just used this to figure out the mappings for each age group (age_title_mapping)\n",
        "def print_mode_age_per_title(df_train):\n",
        "  df = df_train.copy()\n",
        "  # Fill missing age with mode age group for each title\n",
        "  mr_age = df[df[\"Title\"] == 1][\"AgeGroup\"].mode() # Young adult\n",
        "  mrs_age = df[df[\"Title\"] == 2][\"AgeGroup\"].mode() # Adult\n",
        "  miss_age = df[df[\"Title\"] == 3][\"AgeGroup\"].mode() # Student\n",
        "  master_age = df[df[\"Title\"] == 4][\"AgeGroup\"].mode() # Infant\n",
        "  unique_age = df[df[\"Title\"] == 5][\"AgeGroup\"].mode() # Adult\n",
        "  royal_age = df[df[\"Title\"] == 6][\"AgeGroup\"].mode() # Adult\n",
        "\n",
        "  \n",
        "def predict_missing_age_group(df_raw):\n",
        "  df = df_raw.copy()\n",
        "\n",
        "  age_title_mapping = {1: \"Young Adult\", 2: \"Student\", 3: \"Adult\", 4: \"Infant\", 5: \"Adult\", 6: \"Adult\"}\n",
        "\n",
        "  for x in range(len(df[\"AgeGroup\"])):\n",
        "      if df[\"AgeGroup\"][x] == \"Unknown\":\n",
        "          df[\"AgeGroup\"][x] = age_title_mapping[df[\"Title\"][x]]\n",
        "          \n",
        "  # Map to numeric values\n",
        "  age_mapping = {'Infant': 1, 'Child': 2, 'Teenager': 3, 'Student': 4, 'Young Adult': 5, 'Adult': 6, 'Senior': 7}\n",
        "  df['AgeGroup'] = df['AgeGroup'].map(age_mapping)\n",
        "  \n",
        "  return df"
      ],
      "execution_count": 0,
      "outputs": []
    },
    {
      "metadata": {
        "id": "J6Mv6WM2dLmo",
        "colab_type": "text"
      },
      "cell_type": "markdown",
      "source": [
        "An interesting feature could be family sizes, and how that impacted survival."
      ]
    },
    {
      "metadata": {
        "id": "7UZUr-QkdPKe",
        "colab_type": "code",
        "outputId": "81050f09-508a-4a11-ef45-08f1d44ff5cd",
        "colab": {
          "base_uri": "https://localhost:8080/",
          "height": 361
        }
      },
      "cell_type": "code",
      "source": [
        "def extract_family_size(df_raw):\n",
        "  df = df_raw.copy()\n",
        "  # Create family size feature; sum of SibSp, Parch + 1 (to add person in question).\n",
        "  # Map: alone if family size is 1; duo if 2; 3-4 members if 3; 5+ members if 4\n",
        "  df['FamilySize'] = df['SibSp'] + df['Parch'] + 1\n",
        "  df['FamilySize'][df['FamilySize'].between(2, 5, inclusive=False)] = 3\n",
        "  df['FamilySize'][df['FamilySize'] >= 5] = 4\n",
        "  return df\n",
        "\n",
        "# Bar plot of FamilySize vs Survival\n",
        "sb.barplot(x=\"FamilySize\", y=\"Survived\", data=extract_family_size(training_df))\n",
        "plt.show()"
      ],
      "execution_count": 0,
      "outputs": [
        {
          "output_type": "display_data",
          "data": {
            "image/png": "[encoded data removed]",
            "text/plain": [
              "<Figure size 576x396 with 1 Axes>"
            ]
          },
          "metadata": {
            "tags": []
          }
        }
      ]
    },
    {
      "metadata": {
        "id": "lCbbS60Fd3Tp",
        "colab_type": "text"
      },
      "cell_type": "markdown",
      "source": [
        "Interesting results here. One was less likely to survive if they were alone, or in a group of five or more people, but more likely to survive if they were in a couple or a small family group. This data point could likely be made more specific with more analysis (extended family, etc.) but we will leave it as is for now."
      ]
    },
    {
      "metadata": {
        "id": "FMOgigfweTol",
        "colab_type": "text"
      },
      "cell_type": "markdown",
      "source": [
        "Another interesting find when reviewing the test data was that people could have the same ticket number if they were traveling with a nanny or something similar. We could look at the survival rate of those who had a repeated ticket number and the counterpart survived."
      ]
    },
    {
      "metadata": {
        "id": "oNKv54h6eiko",
        "colab_type": "code",
        "outputId": "1eb59ff2-ad62-4e1f-ae66-b6d4da8fe4cd",
        "colab": {
          "base_uri": "https://localhost:8080/",
          "height": 361
        }
      },
      "cell_type": "code",
      "source": [
        "def extract_if_duplicate_survived(df_raw):\n",
        "  df = df_raw.copy()\n",
        "  # Add a column indicating if another passenger with the same ticket number survived (nanny, etc.).\n",
        "  df['TicketSurvivor'] = pd.Series(0, index=df.index)\n",
        "  tickets = df['Ticket'].value_counts().to_dict()\n",
        "  for t, occ in tickets.items():\n",
        "    if occ != 1:\n",
        "      table = training_df['Survived'][training_df['Ticket'] == t]\n",
        "      if sum(table) != 0:\n",
        "        df['TicketSurvivor'][df['Ticket'] == t] = 1\n",
        "  return df\n",
        "\n",
        "sb.barplot(x=\"TicketSurvivor\", y=\"Survived\", data=extract_if_duplicate_survived(training_df))\n",
        "plt.show()"
      ],
      "execution_count": 0,
      "outputs": [
        {
          "output_type": "display_data",
          "data": {
            "image/png": "[encoded data removed]",
            "text/plain": [
              "<Figure size 576x396 with 1 Axes>"
            ]
          },
          "metadata": {
            "tags": []
          }
        }
      ]
    },
    {
      "metadata": {
        "id": "pBH3sCTRfJkc",
        "colab_type": "text"
      },
      "cell_type": "markdown",
      "source": [
        "Interesting again; if someone had a counterpart ticket holder that survived, they were much more likely to survive."
      ]
    },
    {
      "metadata": {
        "id": "5yk6p9G_hjnU",
        "colab_type": "text"
      },
      "cell_type": "markdown",
      "source": [
        "To fill in our missing Fare values in the test set, we will just interpolate based on the training data."
      ]
    },
    {
      "metadata": {
        "id": "98DFlswHhwhU",
        "colab_type": "code",
        "colab": {}
      },
      "cell_type": "code",
      "source": [
        "def fill_in_missing_fare(df_raw):\n",
        "  df = df_raw.copy()\n",
        "  df[\"Fare\"] = df_raw[\"Fare\"].interpolate()\n",
        "  return df"
      ],
      "execution_count": 0,
      "outputs": []
    },
    {
      "metadata": {
        "id": "7EaPyyPmtQdV",
        "colab_type": "text"
      },
      "cell_type": "markdown",
      "source": [
        "Feature engineering time!"
      ]
    },
    {
      "metadata": {
        "id": "SLjPbOL4tr5y",
        "colab_type": "text"
      },
      "cell_type": "markdown",
      "source": [
        "In our preprocessing, we can make a couple adjustments.\n",
        "- We want to fill in the two values for Embarked that we made a best guess for earlier.\n",
        "- We want to fill in the missing cabin values with a filler value 'X' instead of null.\n",
        "- There is a missing data point for Fare in the test data set; we can interpolate this value.\n",
        "\n",
        "After making these adjustments, we can perform some feature engineering on the columns.\n",
        "- We can parse out a honorifics column using the values in the name column and run analyses on the prefixed title people had.\n",
        "- We can create a family size column based on sibling/spouse and parent/child listings.\n",
        "- We can create an is child column based on age.\n",
        "- We can create an is alone column based on family size.\n",
        "- We can strip out additional information from Cabin so it only includes the letter describing the deck of the boat.\n",
        "- We can create a has cabin column based on cabin letter.\n",
        "- We can create an age group column based on ages and predict the missing ages based on the mode of the title category.\n",
        "- We can map Sex and Embarked to numerical values."
      ]
    },
    {
      "metadata": {
        "id": "xoQHxUX4vc0Y",
        "colab_type": "code",
        "colab": {}
      },
      "cell_type": "code",
      "source": [
        "def preprocess(df):\n",
        "  df_processed = df\n",
        "  \n",
        "  # First, filling in any missing values in the data set.\n",
        "  df_processed = fill_in_missing_embarked(df_processed)\n",
        "  df_processed = fill_in_missing_fare(df_processed)\n",
        "  \n",
        "  # Feature engineering on the Cabin value.\n",
        "  df_processed = extract_has_cabin(df_processed)\n",
        "  df_processed = strip_cabin_level(df_processed)\n",
        "  \n",
        "  # Creating the Title feature.\n",
        "  df_processed = extract_title(df_processed)\n",
        "  \n",
        "  # Creating the AgeGroup feature and filling in missing age values.\n",
        "  df_processed = sort_age_group(df_processed)\n",
        "  df_processed = predict_missing_age_group(df_processed)\n",
        "  \n",
        "  # Creating the FamilySize feature.\n",
        "  df_processed = extract_family_size(df_processed)\n",
        "  \n",
        "  # Creating the TicketSurvivor feature.\n",
        "  df_processed = extract_if_duplicate_survived(df_processed)\n",
        "  \n",
        "  \n",
        "  # Create is child feature\n",
        "  df_processed['Child'] = np.where(df_processed['Age'] >= 18, 0, 1)\n",
        "  \n",
        "  # Create alone feature\n",
        "  df_processed['Alone'] = np.where(df_processed['FamilySize'] != 1, 0, 1)\n",
        "  \n",
        "  # Drop columns we no longer need.\n",
        "  df_processed.drop(['Name', 'Age', 'Ticket', 'PassengerId'], axis=1, inplace=True)\n",
        "  \n",
        "  # Map current features to numeric values\n",
        "  df_processed['Sex'] = df_processed['Sex'].map({'male': 0, 'female': 1})\n",
        "  df_processed['Embarked'] = df_processed['Embarked'].map({'S': 0, 'C': 1, 'Q': 2})\n",
        "  \n",
        "  return df_processed\n",
        "  "
      ],
      "execution_count": 0,
      "outputs": []
    },
    {
      "metadata": {
        "id": "YA1bQ4jNI7VG",
        "colab_type": "code",
        "outputId": "30403919-1cdf-4e7e-ee17-923b463d3705",
        "colab": {
          "base_uri": "https://localhost:8080/",
          "height": 224
        }
      },
      "cell_type": "code",
      "source": [
        "# Divide training set into two sets for model eval\n",
        "training_df_real = training_df.copy()\n",
        "x = training_df_real.drop(['Survived'], 1)\n",
        "y = training_df_real['Survived']\n",
        "\n",
        "# Preprocess training inputs\n",
        "x = preprocess(x)\n",
        "\n",
        "# Scale data\n",
        "scale = StandardScaler()\n",
        "x = pd.DataFrame(scale.fit_transform(x.values), index=x.index, columns=x.columns)\n",
        "\n",
        "# Split our inputs and output data for testing.\n",
        "x_train, x_test, y_train, y_test = train_test_split(x, y, test_size=0.2, random_state=42)\n",
        "\n",
        "x_train.head()"
      ],
      "execution_count": 0,
      "outputs": [
        {
          "output_type": "execute_result",
          "data": {
            "text/html": [
              "<div>\n",
              "<style scoped>\n",
              "    .dataframe tbody tr th:only-of-type {\n",
              "        vertical-align: middle;\n",
              "    }\n",
              "\n",
              "    .dataframe tbody tr th {\n",
              "        vertical-align: top;\n",
              "    }\n",
              "\n",
              "    .dataframe thead th {\n",
              "        text-align: right;\n",
              "    }\n",
              "</style>\n",
              "<table border=\"1\" class=\"dataframe\">\n",
              "  <thead>\n",
              "    <tr style=\"text-align: right;\">\n",
              "      <th></th>\n",
              "      <th>Pclass</th>\n",
              "      <th>Sex</th>\n",
              "      <th>SibSp</th>\n",
              "      <th>Parch</th>\n",
              "      <th>Fare</th>\n",
              "      <th>Cabin</th>\n",
              "      <th>Embarked</th>\n",
              "      <th>HasCabin</th>\n",
              "      <th>Title</th>\n",
              "      <th>AgeGroup</th>\n",
              "      <th>FamilySize</th>\n",
              "      <th>TicketSurvivor</th>\n",
              "      <th>Child</th>\n",
              "      <th>Alone</th>\n",
              "    </tr>\n",
              "  </thead>\n",
              "  <tbody>\n",
              "    <tr>\n",
              "      <th>331</th>\n",
              "      <td>-1.566107</td>\n",
              "      <td>-0.737695</td>\n",
              "      <td>-0.474545</td>\n",
              "      <td>-0.473674</td>\n",
              "      <td>-0.074583</td>\n",
              "      <td>1.735808</td>\n",
              "      <td>-0.571933</td>\n",
              "      <td>1.835115</td>\n",
              "      <td>-0.733813</td>\n",
              "      <td>0.968906</td>\n",
              "      <td>-0.709565</td>\n",
              "      <td>-0.596795</td>\n",
              "      <td>-0.694643</td>\n",
              "      <td>0.811922</td>\n",
              "    </tr>\n",
              "    <tr>\n",
              "      <th>733</th>\n",
              "      <td>-0.369365</td>\n",
              "      <td>-0.737695</td>\n",
              "      <td>-0.474545</td>\n",
              "      <td>-0.473674</td>\n",
              "      <td>-0.386671</td>\n",
              "      <td>-0.428790</td>\n",
              "      <td>-0.571933</td>\n",
              "      <td>-0.544925</td>\n",
              "      <td>-0.733813</td>\n",
              "      <td>-0.498036</td>\n",
              "      <td>-0.709565</td>\n",
              "      <td>-0.596795</td>\n",
              "      <td>-0.694643</td>\n",
              "      <td>0.811922</td>\n",
              "    </tr>\n",
              "    <tr>\n",
              "      <th>382</th>\n",
              "      <td>0.827377</td>\n",
              "      <td>-0.737695</td>\n",
              "      <td>-0.474545</td>\n",
              "      <td>-0.473674</td>\n",
              "      <td>-0.488854</td>\n",
              "      <td>-0.428790</td>\n",
              "      <td>-0.571933</td>\n",
              "      <td>-0.544925</td>\n",
              "      <td>-0.733813</td>\n",
              "      <td>0.235435</td>\n",
              "      <td>-0.709565</td>\n",
              "      <td>-0.596795</td>\n",
              "      <td>-0.694643</td>\n",
              "      <td>0.811922</td>\n",
              "    </tr>\n",
              "    <tr>\n",
              "      <th>704</th>\n",
              "      <td>0.827377</td>\n",
              "      <td>-0.737695</td>\n",
              "      <td>0.432793</td>\n",
              "      <td>-0.473674</td>\n",
              "      <td>-0.490280</td>\n",
              "      <td>-0.428790</td>\n",
              "      <td>-0.571933</td>\n",
              "      <td>-0.544925</td>\n",
              "      <td>-0.733813</td>\n",
              "      <td>0.235435</td>\n",
              "      <td>0.328567</td>\n",
              "      <td>-0.596795</td>\n",
              "      <td>-0.694643</td>\n",
              "      <td>-1.231645</td>\n",
              "    </tr>\n",
              "    <tr>\n",
              "      <th>813</th>\n",
              "      <td>0.827377</td>\n",
              "      <td>1.355574</td>\n",
              "      <td>3.154809</td>\n",
              "      <td>2.008933</td>\n",
              "      <td>-0.018709</td>\n",
              "      <td>-0.428790</td>\n",
              "      <td>-0.571933</td>\n",
              "      <td>-0.544925</td>\n",
              "      <td>1.105364</td>\n",
              "      <td>-1.964977</td>\n",
              "      <td>2.404830</td>\n",
              "      <td>-0.596795</td>\n",
              "      <td>1.439588</td>\n",
              "      <td>-1.231645</td>\n",
              "    </tr>\n",
              "  </tbody>\n",
              "</table>\n",
              "</div>"
            ],
            "text/plain": [
              "       Pclass       Sex     SibSp     Parch      Fare     Cabin  Embarked  \\\n",
              "331 -1.566107 -0.737695 -0.474545 -0.473674 -0.074583  1.735808 -0.571933   \n",
              "733 -0.369365 -0.737695 -0.474545 -0.473674 -0.386671 -0.428790 -0.571933   \n",
              "382  0.827377 -0.737695 -0.474545 -0.473674 -0.488854 -0.428790 -0.571933   \n",
              "704  0.827377 -0.737695  0.432793 -0.473674 -0.490280 -0.428790 -0.571933   \n",
              "813  0.827377  1.355574  3.154809  2.008933 -0.018709 -0.428790 -0.571933   \n",
              "\n",
              "     HasCabin     Title  AgeGroup  FamilySize  TicketSurvivor     Child  \\\n",
              "331  1.835115 -0.733813  0.968906   -0.709565       -0.596795 -0.694643   \n",
              "733 -0.544925 -0.733813 -0.498036   -0.709565       -0.596795 -0.694643   \n",
              "382 -0.544925 -0.733813  0.235435   -0.709565       -0.596795 -0.694643   \n",
              "704 -0.544925 -0.733813  0.235435    0.328567       -0.596795 -0.694643   \n",
              "813 -0.544925  1.105364 -1.964977    2.404830       -0.596795  1.439588   \n",
              "\n",
              "        Alone  \n",
              "331  0.811922  \n",
              "733  0.811922  \n",
              "382  0.811922  \n",
              "704 -1.231645  \n",
              "813 -1.231645  "
            ]
          },
          "metadata": {
            "tags": []
          },
          "execution_count": 23
        }
      ]
    },
    {
      "metadata": {
        "id": "PetEe6atN8s1",
        "colab_type": "text"
      },
      "cell_type": "markdown",
      "source": [
        "Now, lets try out our ML models!\n",
        "First up, naive Bayes. The confusion matrix displayed shows the True Negative score in the top-left, False Positive score in the top-left, False Negative score in the bottom-left, and True Positive score in the bottom-right. These scores show us how the model performs - for example, it may assign many true positives, but it may bias towards false positives as well. Its important to see the breakdown!"
      ]
    },
    {
      "metadata": {
        "id": "LsG87Xo0OBou",
        "colab_type": "code",
        "outputId": "05e0fc38-a5a4-4f08-aeb2-c4cff1b676ac",
        "colab": {
          "base_uri": "https://localhost:8080/",
          "height": 546
        }
      },
      "cell_type": "code",
      "source": [
        "gnb = GaussianNB()\n",
        "gnb.fit(x_train, y_train)\n",
        "gnb_prediction = gnb.predict(x_test)\n",
        "\n",
        "score = metrics.accuracy_score(y_test, gnb_prediction)\n",
        "display_confusion_matrix(y_test, gnb_prediction, score=score)"
      ],
      "execution_count": 0,
      "outputs": [
        {
          "output_type": "display_data",
          "data": {
            "text/html": [
              "<div>\n",
              "<style scoped>\n",
              "    .dataframe tbody tr th:only-of-type {\n",
              "        vertical-align: middle;\n",
              "    }\n",
              "\n",
              "    .dataframe tbody tr th {\n",
              "        vertical-align: top;\n",
              "    }\n",
              "\n",
              "    .dataframe thead th {\n",
              "        text-align: right;\n",
              "    }\n",
              "</style>\n",
              "<table border=\"1\" class=\"dataframe\">\n",
              "  <thead>\n",
              "    <tr style=\"text-align: right;\">\n",
              "      <th></th>\n",
              "      <th>precision</th>\n",
              "      <th>recall</th>\n",
              "      <th>f1-score</th>\n",
              "      <th>support</th>\n",
              "    </tr>\n",
              "  </thead>\n",
              "  <tbody>\n",
              "    <tr>\n",
              "      <th>0</th>\n",
              "      <td>0.81</td>\n",
              "      <td>0.90</td>\n",
              "      <td>0.85</td>\n",
              "      <td>105</td>\n",
              "    </tr>\n",
              "    <tr>\n",
              "      <th>1</th>\n",
              "      <td>0.84</td>\n",
              "      <td>0.69</td>\n",
              "      <td>0.76</td>\n",
              "      <td>74</td>\n",
              "    </tr>\n",
              "    <tr>\n",
              "      <th>macro avg</th>\n",
              "      <td>0.82</td>\n",
              "      <td>0.80</td>\n",
              "      <td>0.80</td>\n",
              "      <td>179</td>\n",
              "    </tr>\n",
              "    <tr>\n",
              "      <th>micro avg</th>\n",
              "      <td>0.82</td>\n",
              "      <td>0.82</td>\n",
              "      <td>0.82</td>\n",
              "      <td>179</td>\n",
              "    </tr>\n",
              "    <tr>\n",
              "      <th>weighted avg</th>\n",
              "      <td>0.82</td>\n",
              "      <td>0.82</td>\n",
              "      <td>0.81</td>\n",
              "      <td>179</td>\n",
              "    </tr>\n",
              "  </tbody>\n",
              "</table>\n",
              "</div>"
            ],
            "text/plain": [
              "              precision  recall  f1-score  support\n",
              "0                  0.81    0.90      0.85      105\n",
              "1                  0.84    0.69      0.76       74\n",
              "macro avg          0.82    0.80      0.80      179\n",
              "micro avg          0.82    0.82      0.82      179\n",
              "weighted avg       0.82    0.82      0.81      179"
            ]
          },
          "metadata": {
            "tags": []
          }
        },
        {
          "output_type": "display_data",
          "data": {
            "image/png": "[encoded data removed]",
            "text/plain": [
              "<Figure size 432x432 with 2 Axes>"
            ]
          },
          "metadata": {
            "tags": []
          }
        }
      ]
    },
    {
      "metadata": {
        "id": "8lqjlpWhRPBb",
        "colab_type": "text"
      },
      "cell_type": "markdown",
      "source": [
        "This looks okay - we have a decently high score for both True squares, although our False Negatives would ideally be lower and our True Positives would ideally be higher. Next, we will try a multi-layer perceptron model."
      ]
    },
    {
      "metadata": {
        "id": "AAfvgrOmRaBX",
        "colab_type": "code",
        "outputId": "01cdb0c6-dfe5-49a3-d782-132727e54c9d",
        "colab": {
          "base_uri": "https://localhost:8080/",
          "height": 546
        }
      },
      "cell_type": "code",
      "source": [
        "mlp = MLPClassifier()\n",
        "mlp.fit(x_train, y_train)\n",
        "mlp_prediction = mlp.predict(x_test)\n",
        "\n",
        "score = metrics.accuracy_score(y_test, mlp_prediction)\n",
        "display_confusion_matrix(y_test, mlp_prediction, score=score)"
      ],
      "execution_count": 0,
      "outputs": [
        {
          "output_type": "display_data",
          "data": {
            "text/html": [
              "<div>\n",
              "<style scoped>\n",
              "    .dataframe tbody tr th:only-of-type {\n",
              "        vertical-align: middle;\n",
              "    }\n",
              "\n",
              "    .dataframe tbody tr th {\n",
              "        vertical-align: top;\n",
              "    }\n",
              "\n",
              "    .dataframe thead th {\n",
              "        text-align: right;\n",
              "    }\n",
              "</style>\n",
              "<table border=\"1\" class=\"dataframe\">\n",
              "  <thead>\n",
              "    <tr style=\"text-align: right;\">\n",
              "      <th></th>\n",
              "      <th>precision</th>\n",
              "      <th>recall</th>\n",
              "      <th>f1-score</th>\n",
              "      <th>support</th>\n",
              "    </tr>\n",
              "  </thead>\n",
              "  <tbody>\n",
              "    <tr>\n",
              "      <th>0</th>\n",
              "      <td>0.86</td>\n",
              "      <td>0.94</td>\n",
              "      <td>0.90</td>\n",
              "      <td>105</td>\n",
              "    </tr>\n",
              "    <tr>\n",
              "      <th>1</th>\n",
              "      <td>0.91</td>\n",
              "      <td>0.78</td>\n",
              "      <td>0.84</td>\n",
              "      <td>74</td>\n",
              "    </tr>\n",
              "    <tr>\n",
              "      <th>macro avg</th>\n",
              "      <td>0.88</td>\n",
              "      <td>0.86</td>\n",
              "      <td>0.87</td>\n",
              "      <td>179</td>\n",
              "    </tr>\n",
              "    <tr>\n",
              "      <th>micro avg</th>\n",
              "      <td>0.88</td>\n",
              "      <td>0.88</td>\n",
              "      <td>0.88</td>\n",
              "      <td>179</td>\n",
              "    </tr>\n",
              "    <tr>\n",
              "      <th>weighted avg</th>\n",
              "      <td>0.88</td>\n",
              "      <td>0.88</td>\n",
              "      <td>0.88</td>\n",
              "      <td>179</td>\n",
              "    </tr>\n",
              "  </tbody>\n",
              "</table>\n",
              "</div>"
            ],
            "text/plain": [
              "              precision  recall  f1-score  support\n",
              "0                  0.86    0.94      0.90      105\n",
              "1                  0.91    0.78      0.84       74\n",
              "macro avg          0.88    0.86      0.87      179\n",
              "micro avg          0.88    0.88      0.88      179\n",
              "weighted avg       0.88    0.88      0.88      179"
            ]
          },
          "metadata": {
            "tags": []
          }
        },
        {
          "output_type": "display_data",
          "data": {
            "image/png": "[encoded data removed]",
            "text/plain": [
              "<Figure size 432x432 with 2 Axes>"
            ]
          },
          "metadata": {
            "tags": []
          }
        }
      ]
    },
    {
      "metadata": {
        "id": "xSRjVJ_rBYKx",
        "colab_type": "text"
      },
      "cell_type": "markdown",
      "source": [
        "From the generated confusion matrices, it appears that the MLP model is outperforming our Naive Bayes model by a significant margin, so we will submit the MLP classifier. The MLP classifier's True scores are higher and its False scores, especially for False Positives, are much lower than Naive Bayes."
      ]
    },
    {
      "metadata": {
        "id": "Uxyxe_YTBmIu",
        "colab_type": "code",
        "outputId": "13e76d43-46b6-42bc-887f-6baad05ce7aa",
        "colab": {
          "base_uri": "https://localhost:8080/",
          "height": 689
        }
      },
      "cell_type": "code",
      "source": [
        "test_raw = pd.read_csv(testing_set)\n",
        "test = test_raw.copy()\n",
        "test = preprocess(test)\n",
        "test = pd.DataFrame(scale.fit_transform(test.values), index=test.index, columns=test.columns)\n",
        "test.head(20)\n"
      ],
      "execution_count": 0,
      "outputs": [
        {
          "output_type": "execute_result",
          "data": {
            "text/html": [
              "<div>\n",
              "<style scoped>\n",
              "    .dataframe tbody tr th:only-of-type {\n",
              "        vertical-align: middle;\n",
              "    }\n",
              "\n",
              "    .dataframe tbody tr th {\n",
              "        vertical-align: top;\n",
              "    }\n",
              "\n",
              "    .dataframe thead th {\n",
              "        text-align: right;\n",
              "    }\n",
              "</style>\n",
              "<table border=\"1\" class=\"dataframe\">\n",
              "  <thead>\n",
              "    <tr style=\"text-align: right;\">\n",
              "      <th></th>\n",
              "      <th>Pclass</th>\n",
              "      <th>Sex</th>\n",
              "      <th>SibSp</th>\n",
              "      <th>Parch</th>\n",
              "      <th>Fare</th>\n",
              "      <th>Cabin</th>\n",
              "      <th>Embarked</th>\n",
              "      <th>HasCabin</th>\n",
              "      <th>Title</th>\n",
              "      <th>AgeGroup</th>\n",
              "      <th>FamilySize</th>\n",
              "      <th>TicketSurvivor</th>\n",
              "      <th>Child</th>\n",
              "      <th>Alone</th>\n",
              "    </tr>\n",
              "  </thead>\n",
              "  <tbody>\n",
              "    <tr>\n",
              "      <th>0</th>\n",
              "      <td>0.873482</td>\n",
              "      <td>-0.755929</td>\n",
              "      <td>-0.499470</td>\n",
              "      <td>-0.400248</td>\n",
              "      <td>-0.497185</td>\n",
              "      <td>-0.150580</td>\n",
              "      <td>2.243165</td>\n",
              "      <td>-0.527530</td>\n",
              "      <td>-0.745470</td>\n",
              "      <td>0.216878</td>\n",
              "      <td>-0.715718</td>\n",
              "      <td>-0.3253</td>\n",
              "      <td>-0.660626</td>\n",
              "      <td>0.807573</td>\n",
              "    </tr>\n",
              "    <tr>\n",
              "      <th>1</th>\n",
              "      <td>0.873482</td>\n",
              "      <td>1.322876</td>\n",
              "      <td>0.616992</td>\n",
              "      <td>-0.400248</td>\n",
              "      <td>-0.512048</td>\n",
              "      <td>-0.150580</td>\n",
              "      <td>-0.677841</td>\n",
              "      <td>-0.527530</td>\n",
              "      <td>0.237516</td>\n",
              "      <td>0.991705</td>\n",
              "      <td>0.368232</td>\n",
              "      <td>-0.3253</td>\n",
              "      <td>-0.660626</td>\n",
              "      <td>-1.238278</td>\n",
              "    </tr>\n",
              "    <tr>\n",
              "      <th>2</th>\n",
              "      <td>-0.315819</td>\n",
              "      <td>-0.755929</td>\n",
              "      <td>-0.499470</td>\n",
              "      <td>-0.400248</td>\n",
              "      <td>-0.463874</td>\n",
              "      <td>-0.150580</td>\n",
              "      <td>2.243165</td>\n",
              "      <td>-0.527530</td>\n",
              "      <td>-0.745470</td>\n",
              "      <td>1.766533</td>\n",
              "      <td>-0.715718</td>\n",
              "      <td>-0.3253</td>\n",
              "      <td>-0.660626</td>\n",
              "      <td>0.807573</td>\n",
              "    </tr>\n",
              "    <tr>\n",
              "      <th>3</th>\n",
              "      <td>0.873482</td>\n",
              "      <td>-0.755929</td>\n",
              "      <td>-0.499470</td>\n",
              "      <td>-0.400248</td>\n",
              "      <td>-0.482248</td>\n",
              "      <td>-0.150580</td>\n",
              "      <td>-0.677841</td>\n",
              "      <td>-0.527530</td>\n",
              "      <td>-0.745470</td>\n",
              "      <td>0.216878</td>\n",
              "      <td>-0.715718</td>\n",
              "      <td>-0.3253</td>\n",
              "      <td>-0.660626</td>\n",
              "      <td>0.807573</td>\n",
              "    </tr>\n",
              "    <tr>\n",
              "      <th>4</th>\n",
              "      <td>0.873482</td>\n",
              "      <td>1.322876</td>\n",
              "      <td>0.616992</td>\n",
              "      <td>0.619896</td>\n",
              "      <td>-0.417269</td>\n",
              "      <td>-0.150580</td>\n",
              "      <td>-0.677841</td>\n",
              "      <td>-0.527530</td>\n",
              "      <td>0.237516</td>\n",
              "      <td>-0.557950</td>\n",
              "      <td>1.452181</td>\n",
              "      <td>-0.3253</td>\n",
              "      <td>-0.660626</td>\n",
              "      <td>-1.238278</td>\n",
              "    </tr>\n",
              "    <tr>\n",
              "      <th>5</th>\n",
              "      <td>0.873482</td>\n",
              "      <td>-0.755929</td>\n",
              "      <td>-0.499470</td>\n",
              "      <td>-0.400248</td>\n",
              "      <td>-0.472165</td>\n",
              "      <td>-0.150580</td>\n",
              "      <td>-0.677841</td>\n",
              "      <td>-0.527530</td>\n",
              "      <td>-0.745470</td>\n",
              "      <td>-1.332778</td>\n",
              "      <td>-0.715718</td>\n",
              "      <td>-0.3253</td>\n",
              "      <td>1.513717</td>\n",
              "      <td>0.807573</td>\n",
              "    </tr>\n",
              "    <tr>\n",
              "      <th>6</th>\n",
              "      <td>0.873482</td>\n",
              "      <td>1.322876</td>\n",
              "      <td>-0.499470</td>\n",
              "      <td>-0.400248</td>\n",
              "      <td>-0.500770</td>\n",
              "      <td>-0.150580</td>\n",
              "      <td>2.243165</td>\n",
              "      <td>-0.527530</td>\n",
              "      <td>1.220501</td>\n",
              "      <td>0.216878</td>\n",
              "      <td>-0.715718</td>\n",
              "      <td>-0.3253</td>\n",
              "      <td>-0.660626</td>\n",
              "      <td>0.807573</td>\n",
              "    </tr>\n",
              "    <tr>\n",
              "      <th>7</th>\n",
              "      <td>-0.315819</td>\n",
              "      <td>-0.755929</td>\n",
              "      <td>0.616992</td>\n",
              "      <td>0.619896</td>\n",
              "      <td>-0.117696</td>\n",
              "      <td>-0.150580</td>\n",
              "      <td>-0.677841</td>\n",
              "      <td>-0.527530</td>\n",
              "      <td>-0.745470</td>\n",
              "      <td>0.216878</td>\n",
              "      <td>1.452181</td>\n",
              "      <td>-0.3253</td>\n",
              "      <td>-0.660626</td>\n",
              "      <td>-1.238278</td>\n",
              "    </tr>\n",
              "    <tr>\n",
              "      <th>8</th>\n",
              "      <td>0.873482</td>\n",
              "      <td>1.322876</td>\n",
              "      <td>-0.499470</td>\n",
              "      <td>-0.400248</td>\n",
              "      <td>-0.507940</td>\n",
              "      <td>-0.150580</td>\n",
              "      <td>0.782662</td>\n",
              "      <td>-0.527530</td>\n",
              "      <td>0.237516</td>\n",
              "      <td>-1.332778</td>\n",
              "      <td>-0.715718</td>\n",
              "      <td>-0.3253</td>\n",
              "      <td>-0.660626</td>\n",
              "      <td>0.807573</td>\n",
              "    </tr>\n",
              "    <tr>\n",
              "      <th>9</th>\n",
              "      <td>0.873482</td>\n",
              "      <td>-0.755929</td>\n",
              "      <td>1.733455</td>\n",
              "      <td>-0.400248</td>\n",
              "      <td>-0.204633</td>\n",
              "      <td>-0.150580</td>\n",
              "      <td>-0.677841</td>\n",
              "      <td>-0.527530</td>\n",
              "      <td>-0.745470</td>\n",
              "      <td>-0.557950</td>\n",
              "      <td>1.452181</td>\n",
              "      <td>-0.3253</td>\n",
              "      <td>-0.660626</td>\n",
              "      <td>-1.238278</td>\n",
              "    </tr>\n",
              "    <tr>\n",
              "      <th>10</th>\n",
              "      <td>0.873482</td>\n",
              "      <td>-0.755929</td>\n",
              "      <td>-0.499470</td>\n",
              "      <td>-0.400248</td>\n",
              "      <td>-0.495991</td>\n",
              "      <td>-0.150580</td>\n",
              "      <td>-0.677841</td>\n",
              "      <td>-0.527530</td>\n",
              "      <td>-0.745470</td>\n",
              "      <td>0.216878</td>\n",
              "      <td>-0.715718</td>\n",
              "      <td>-0.3253</td>\n",
              "      <td>1.513717</td>\n",
              "      <td>0.807573</td>\n",
              "    </tr>\n",
              "    <tr>\n",
              "      <th>11</th>\n",
              "      <td>-1.505120</td>\n",
              "      <td>-0.755929</td>\n",
              "      <td>-0.499470</td>\n",
              "      <td>-0.400248</td>\n",
              "      <td>-0.171471</td>\n",
              "      <td>-0.150580</td>\n",
              "      <td>-0.677841</td>\n",
              "      <td>-0.527530</td>\n",
              "      <td>-0.745470</td>\n",
              "      <td>0.991705</td>\n",
              "      <td>-0.715718</td>\n",
              "      <td>-0.3253</td>\n",
              "      <td>-0.660626</td>\n",
              "      <td>0.807573</td>\n",
              "    </tr>\n",
              "    <tr>\n",
              "      <th>12</th>\n",
              "      <td>-1.505120</td>\n",
              "      <td>1.322876</td>\n",
              "      <td>0.616992</td>\n",
              "      <td>-0.400248</td>\n",
              "      <td>0.837116</td>\n",
              "      <td>-2.248662</td>\n",
              "      <td>-0.677841</td>\n",
              "      <td>1.895628</td>\n",
              "      <td>0.237516</td>\n",
              "      <td>-0.557950</td>\n",
              "      <td>0.368232</td>\n",
              "      <td>-0.3253</td>\n",
              "      <td>-0.660626</td>\n",
              "      <td>-1.238278</td>\n",
              "    </tr>\n",
              "    <tr>\n",
              "      <th>13</th>\n",
              "      <td>-0.315819</td>\n",
              "      <td>-0.755929</td>\n",
              "      <td>0.616992</td>\n",
              "      <td>-0.400248</td>\n",
              "      <td>-0.171471</td>\n",
              "      <td>-0.150580</td>\n",
              "      <td>-0.677841</td>\n",
              "      <td>-0.527530</td>\n",
              "      <td>-0.745470</td>\n",
              "      <td>1.766533</td>\n",
              "      <td>0.368232</td>\n",
              "      <td>-0.3253</td>\n",
              "      <td>-0.660626</td>\n",
              "      <td>-1.238278</td>\n",
              "    </tr>\n",
              "    <tr>\n",
              "      <th>14</th>\n",
              "      <td>-1.505120</td>\n",
              "      <td>1.322876</td>\n",
              "      <td>0.616992</td>\n",
              "      <td>-0.400248</td>\n",
              "      <td>0.459045</td>\n",
              "      <td>1.947502</td>\n",
              "      <td>-0.677841</td>\n",
              "      <td>1.895628</td>\n",
              "      <td>0.237516</td>\n",
              "      <td>0.991705</td>\n",
              "      <td>0.368232</td>\n",
              "      <td>-0.3253</td>\n",
              "      <td>-0.660626</td>\n",
              "      <td>-1.238278</td>\n",
              "    </tr>\n",
              "    <tr>\n",
              "      <th>15</th>\n",
              "      <td>-0.315819</td>\n",
              "      <td>1.322876</td>\n",
              "      <td>0.616992</td>\n",
              "      <td>-0.400248</td>\n",
              "      <td>-0.140626</td>\n",
              "      <td>-0.150580</td>\n",
              "      <td>0.782662</td>\n",
              "      <td>-0.527530</td>\n",
              "      <td>0.237516</td>\n",
              "      <td>-0.557950</td>\n",
              "      <td>0.368232</td>\n",
              "      <td>-0.3253</td>\n",
              "      <td>-0.660626</td>\n",
              "      <td>-1.238278</td>\n",
              "    </tr>\n",
              "    <tr>\n",
              "      <th>16</th>\n",
              "      <td>-0.315819</td>\n",
              "      <td>-0.755929</td>\n",
              "      <td>-0.499470</td>\n",
              "      <td>-0.400248</td>\n",
              "      <td>-0.416149</td>\n",
              "      <td>-0.150580</td>\n",
              "      <td>2.243165</td>\n",
              "      <td>-0.527530</td>\n",
              "      <td>-0.745470</td>\n",
              "      <td>0.216878</td>\n",
              "      <td>-0.715718</td>\n",
              "      <td>-0.3253</td>\n",
              "      <td>-0.660626</td>\n",
              "      <td>0.807573</td>\n",
              "    </tr>\n",
              "    <tr>\n",
              "      <th>17</th>\n",
              "      <td>0.873482</td>\n",
              "      <td>-0.755929</td>\n",
              "      <td>-0.499470</td>\n",
              "      <td>-0.400248</td>\n",
              "      <td>-0.508015</td>\n",
              "      <td>-0.150580</td>\n",
              "      <td>0.782662</td>\n",
              "      <td>-0.527530</td>\n",
              "      <td>-0.745470</td>\n",
              "      <td>-0.557950</td>\n",
              "      <td>-0.715718</td>\n",
              "      <td>-0.3253</td>\n",
              "      <td>-0.660626</td>\n",
              "      <td>0.807573</td>\n",
              "    </tr>\n",
              "    <tr>\n",
              "      <th>18</th>\n",
              "      <td>0.873482</td>\n",
              "      <td>1.322876</td>\n",
              "      <td>0.616992</td>\n",
              "      <td>-0.400248</td>\n",
              "      <td>-0.495467</td>\n",
              "      <td>-0.150580</td>\n",
              "      <td>-0.677841</td>\n",
              "      <td>-0.527530</td>\n",
              "      <td>1.220501</td>\n",
              "      <td>0.216878</td>\n",
              "      <td>0.368232</td>\n",
              "      <td>-0.3253</td>\n",
              "      <td>-0.660626</td>\n",
              "      <td>-1.238278</td>\n",
              "    </tr>\n",
              "    <tr>\n",
              "      <th>19</th>\n",
              "      <td>0.873482</td>\n",
              "      <td>1.322876</td>\n",
              "      <td>-0.499470</td>\n",
              "      <td>-0.400248</td>\n",
              "      <td>-0.508015</td>\n",
              "      <td>-0.150580</td>\n",
              "      <td>0.782662</td>\n",
              "      <td>-0.527530</td>\n",
              "      <td>0.237516</td>\n",
              "      <td>0.991705</td>\n",
              "      <td>-0.715718</td>\n",
              "      <td>-0.3253</td>\n",
              "      <td>-0.660626</td>\n",
              "      <td>0.807573</td>\n",
              "    </tr>\n",
              "  </tbody>\n",
              "</table>\n",
              "</div>"
            ],
            "text/plain": [
              "      Pclass       Sex     SibSp     Parch      Fare     Cabin  Embarked  \\\n",
              "0   0.873482 -0.755929 -0.499470 -0.400248 -0.497185 -0.150580  2.243165   \n",
              "1   0.873482  1.322876  0.616992 -0.400248 -0.512048 -0.150580 -0.677841   \n",
              "2  -0.315819 -0.755929 -0.499470 -0.400248 -0.463874 -0.150580  2.243165   \n",
              "3   0.873482 -0.755929 -0.499470 -0.400248 -0.482248 -0.150580 -0.677841   \n",
              "4   0.873482  1.322876  0.616992  0.619896 -0.417269 -0.150580 -0.677841   \n",
              "5   0.873482 -0.755929 -0.499470 -0.400248 -0.472165 -0.150580 -0.677841   \n",
              "6   0.873482  1.322876 -0.499470 -0.400248 -0.500770 -0.150580  2.243165   \n",
              "7  -0.315819 -0.755929  0.616992  0.619896 -0.117696 -0.150580 -0.677841   \n",
              "8   0.873482  1.322876 -0.499470 -0.400248 -0.507940 -0.150580  0.782662   \n",
              "9   0.873482 -0.755929  1.733455 -0.400248 -0.204633 -0.150580 -0.677841   \n",
              "10  0.873482 -0.755929 -0.499470 -0.400248 -0.495991 -0.150580 -0.677841   \n",
              "11 -1.505120 -0.755929 -0.499470 -0.400248 -0.171471 -0.150580 -0.677841   \n",
              "12 -1.505120  1.322876  0.616992 -0.400248  0.837116 -2.248662 -0.677841   \n",
              "13 -0.315819 -0.755929  0.616992 -0.400248 -0.171471 -0.150580 -0.677841   \n",
              "14 -1.505120  1.322876  0.616992 -0.400248  0.459045  1.947502 -0.677841   \n",
              "15 -0.315819  1.322876  0.616992 -0.400248 -0.140626 -0.150580  0.782662   \n",
              "16 -0.315819 -0.755929 -0.499470 -0.400248 -0.416149 -0.150580  2.243165   \n",
              "17  0.873482 -0.755929 -0.499470 -0.400248 -0.508015 -0.150580  0.782662   \n",
              "18  0.873482  1.322876  0.616992 -0.400248 -0.495467 -0.150580 -0.677841   \n",
              "19  0.873482  1.322876 -0.499470 -0.400248 -0.508015 -0.150580  0.782662   \n",
              "\n",
              "    HasCabin     Title  AgeGroup  FamilySize  TicketSurvivor     Child  \\\n",
              "0  -0.527530 -0.745470  0.216878   -0.715718         -0.3253 -0.660626   \n",
              "1  -0.527530  0.237516  0.991705    0.368232         -0.3253 -0.660626   \n",
              "2  -0.527530 -0.745470  1.766533   -0.715718         -0.3253 -0.660626   \n",
              "3  -0.527530 -0.745470  0.216878   -0.715718         -0.3253 -0.660626   \n",
              "4  -0.527530  0.237516 -0.557950    1.452181         -0.3253 -0.660626   \n",
              "5  -0.527530 -0.745470 -1.332778   -0.715718         -0.3253  1.513717   \n",
              "6  -0.527530  1.220501  0.216878   -0.715718         -0.3253 -0.660626   \n",
              "7  -0.527530 -0.745470  0.216878    1.452181         -0.3253 -0.660626   \n",
              "8  -0.527530  0.237516 -1.332778   -0.715718         -0.3253 -0.660626   \n",
              "9  -0.527530 -0.745470 -0.557950    1.452181         -0.3253 -0.660626   \n",
              "10 -0.527530 -0.745470  0.216878   -0.715718         -0.3253  1.513717   \n",
              "11 -0.527530 -0.745470  0.991705   -0.715718         -0.3253 -0.660626   \n",
              "12  1.895628  0.237516 -0.557950    0.368232         -0.3253 -0.660626   \n",
              "13 -0.527530 -0.745470  1.766533    0.368232         -0.3253 -0.660626   \n",
              "14  1.895628  0.237516  0.991705    0.368232         -0.3253 -0.660626   \n",
              "15 -0.527530  0.237516 -0.557950    0.368232         -0.3253 -0.660626   \n",
              "16 -0.527530 -0.745470  0.216878   -0.715718         -0.3253 -0.660626   \n",
              "17 -0.527530 -0.745470 -0.557950   -0.715718         -0.3253 -0.660626   \n",
              "18 -0.527530  1.220501  0.216878    0.368232         -0.3253 -0.660626   \n",
              "19 -0.527530  0.237516  0.991705   -0.715718         -0.3253 -0.660626   \n",
              "\n",
              "       Alone  \n",
              "0   0.807573  \n",
              "1  -1.238278  \n",
              "2   0.807573  \n",
              "3   0.807573  \n",
              "4  -1.238278  \n",
              "5   0.807573  \n",
              "6   0.807573  \n",
              "7  -1.238278  \n",
              "8   0.807573  \n",
              "9  -1.238278  \n",
              "10  0.807573  \n",
              "11  0.807573  \n",
              "12 -1.238278  \n",
              "13 -1.238278  \n",
              "14 -1.238278  \n",
              "15 -1.238278  \n",
              "16  0.807573  \n",
              "17  0.807573  \n",
              "18 -1.238278  \n",
              "19  0.807573  "
            ]
          },
          "metadata": {
            "tags": []
          },
          "execution_count": 288
        }
      ]
    },
    {
      "metadata": {
        "id": "npT8Edy1CoOO",
        "colab_type": "code",
        "colab": {}
      },
      "cell_type": "code",
      "source": [
        "# Using the MLP classifier:\n",
        "model_test = MLPClassifier()\n",
        "model_test.fit(x,y)\n",
        "\n",
        "prediction = model_test.predict(test)\n",
        "\n",
        "result = test_raw.copy()\n",
        "result['Survived'] = prediction\n",
        "result.to_csv('/content/mlp_submission_final.csv', columns=['PassengerId', 'Survived'], index=False)\n"
      ],
      "execution_count": 0,
      "outputs": []
    },
    {
      "metadata": {
        "id": "ryaAqkeaucD_",
        "colab_type": "text"
      },
      "cell_type": "markdown",
      "source": [
        "After submitting on Kaggle, this prediction received a score of <b>0.78947</b> and placed <b>#3021</b>. We experimented with different activation functions for the MLP classifier, and it should be noted that the best performance was found using the relu activation function. \n",
        "\n",
        "We attempted to build more features around the Ticket data, such as the first digit of the Ticket number and the length of the Ticket number, but found that it actually reduced the performance of both models significantly.\n",
        "\n",
        "This model could likely be improved through more focused feature engineering on Age and more specific analyses on family-building (finding extended families, family members who did not actually board the boat, etc.) and using different classifiers like Random Forest or a custom classifier."
      ]
    }
  ]
}